{
 "cells": [
  {
   "cell_type": "markdown",
   "metadata": {},
   "source": [
    "Investigate the distribution of the test statistic\n",
    "\n",
    "$$ \n",
    "\\widehat{T}_{N,k} =  \\exp \\left\\{\\widehat{H}_{N, k, \\textit{q}}\\right \\} \\big{/} \n",
    "\\sqrt{\\det {\\frac{\\nu -2}{\\nu}}\\widehat{C}_N } - c_0(\\nu, m)\n",
    "$$\n",
    "converge to zero in probability as $N \\to \\infty$ for any fixed $k \\geq 1$, where $\\widehat{H}_{N, k, \\textit{q}}$\n",
    "\n",
    "\n",
    "$$\n",
    "\\widehat{H}_{N,k,\\textit{q}} = \\frac{1}{1-\\textit{q}}\\log \n",
    "\\left[\\frac{1}{N}\\sum_{i=1}^{N}\\left(\\zeta_{N,i,k}\\right)^{1-\\textit{q}} \\right]= \n",
    "\\frac{1}{1-\\textit{q}}\\log \\left[\\widehat{I}_{N,i, {k}} \\right]\n",
    "$$\n",
    "\n",
    "and $\\widehat{C}_N$ is defined as\n",
    "\n",
    "$$\n",
    "  \\widehat{C}_N = \\left( \\frac{1}{N-1} \\sum_{r=1}^{N} X_r^{(i)}X_r^{(j)}    \n",
    " \\right)_{1 \\leq {i}, {j} \\leq {N}} = \\frac{1}{N-1} \\sum_{r=1}^{N}X_r X_r^{\\prime},\n",
    "$$\n",
    "\n",
    "\n",
    "and also $c_0(\\nu, m)$  is defined \n",
    "\n",
    "$$\n",
    " c_0(\\nu, m) = \\frac{B^{\\frac{1}{1-\\textit{q}}} \\left(\\frac{\\textit{q}(m + \\nu)}{2} - \\frac{m}{2}, \n",
    "\\frac{m}{2}\\right)(\\pi \\nu)^{\\frac{m}{2}}}{B^{\\frac{\\textit{q}}{1-\\textit{q}}}(\\frac{\\nu}{2}, \n",
    "\\frac{m}{2})\\Gamma \\left(\\frac{m}{2} \\right)},\n",
    "$$\n",
    "\n",
    "for various values of the parameters\n",
    "    $N$ - number of points (sample size)\n",
    "    $m$ - dimension\n",
    "    $k$ - nearest neighbour index\n",
    "    $\\nu$ - degrees of freedom\n",
    "\n",
    "N = 1000, 2000, ..., 100000\n",
    "m = 1,2,3\n",
    "k = 1,2,3\n",
    "$\\nu$ = 3, 4, 5,"
   ]
  },
  {
   "cell_type": "markdown",
   "metadata": {},
   "source": [
    "# Preliminaries"
   ]
  },
  {
   "cell_type": "code",
   "execution_count": 345,
   "metadata": {},
   "outputs": [],
   "source": [
    "# import packages\n",
    "import numpy as np\n",
    "import scipy as sc\n",
    "import scipy.stats as st\n",
    "import matplotlib.pyplot as plt\n",
    "import matplotlib.ticker as tkr\n",
    "\n",
    "# Golden ratio (for nice plotting)\n",
    "GR = (1+np.sqrt(5))/2"
   ]
  },
  {
   "cell_type": "code",
   "execution_count": 346,
   "metadata": {},
   "outputs": [],
   "source": [
    "def create_points(npts, dist = \"T\", dim=2, dof=3, scale=1, cov_mtx = None, standardize=False):\n",
    "    '''\n",
    "    Generate points from a specified distribution.\n",
    "    Inputs\n",
    "        npts: number of points\n",
    "        dist: the distribution of the points\n",
    "            G:  Gaussian\n",
    "            T:  Stud...\n",
    "            L : Multivariate Laplace \n",
    "            \n",
    "    '''\n",
    "    if cov_mtx:\n",
    "        dim = len(cov_mtx)\n",
    "    else:\n",
    "        cov_mtx = np.identity(dim)\n",
    "    \n",
    "    # init\n",
    "    points = None\n",
    "\n",
    "    if dist == \"G\":\n",
    "        points = scale*np.random.multivariate_normal([0]*dim, cov_mtx, npts)\n",
    "\n",
    "\n",
    "    elif dist == \"T\":\n",
    "\n",
    "        # X = d = Z/sqrt(V/nu) where Z~N(0,Sigma) and V~chisquared(nu)\n",
    "        zpts = np.random.multivariate_normal([0]*dim, cov_mtx, npts)\n",
    "        csq = np.tile(np.random.gamma(dof/2.0, 2.0/dof, npts),(dim,1)).T\n",
    "        points = zpts/np.sqrt(csq)\n",
    "        sfactor = dof/(dof-2) # variance\n",
    "        points = scale*points/np.sqrt(sfactor)\n",
    "        \n",
    "        \n",
    "        \n",
    "    elif dist == \"L\":\n",
    "        \n",
    "        #Z = d = sqrt(V_0).X, where X ~ N_m(0,C) and V_0 is exponential\n",
    "        Xpts = np.random.multivariate_normal([0]*dim, cov_mtx, npts)\n",
    "        V_vals = np.random.exponential(scale = 1, size=npts)\n",
    "        Vpts = np.sqrt(V_vals )\n",
    "        points = np.multiply(Xpts, Vpts[:, np.newaxis]) if dim > 1 else np.multiply(Xpts, Vpts)\n",
    "        \n",
    "        \n",
    "        \n",
    "        #mean = [0]*dim\n",
    "        #x_m = npts - mean\n",
    "        #exp = np.exp(-(np.linalg.solve(cov_mtx, x_m)).T.dot(x_m))\n",
    "        #gamma = np.random.gamma((dim+1)/2)\n",
    "        #detC =  np.linalg.det(cov_mtx)\n",
    "        #points = (1. / (2** dim) * (np.pi ** ((dim-1)/2))*(gamma)*(detC))*(exp)\n",
    "\n",
    "        \n",
    "\n",
    "\n",
    "    else :\n",
    "        print('Distribution not recognised')\n",
    "        \n",
    "    if standardize:\n",
    "        points = (points - np.mean(points, axis=0))/np.std(points, axis=0)\n",
    "    \n",
    "    return points\n",
    "\n",
    "\n"
   ]
  },
  {
   "cell_type": "code",
   "execution_count": 347,
   "metadata": {},
   "outputs": [
    {
     "name": "stdout",
     "output_type": "stream",
     "text": [
      "[[-0.24173068 -0.00953813]\n",
      " [-2.12830005  1.06854131]\n",
      " [ 0.70965655 -0.04945681]\n",
      " [-0.41818044  0.47634586]\n",
      " [ 0.43066845 -0.20047532]\n",
      " [ 1.50532823 -0.93384945]\n",
      " [-0.26238961 -1.05722882]\n",
      " [-0.97839841  0.20147585]\n",
      " [ 0.85517191  0.24823098]\n",
      " [-2.56606501 -1.08506665]\n",
      " [ 0.02559686  0.29259978]]\n"
     ]
    }
   ],
   "source": [
    "# Test\n",
    "pts1 = create_points(npts=11, dist='T', dim=2, dof=4)\n",
    "print(pts1)"
   ]
  },
  {
   "cell_type": "code",
   "execution_count": 348,
   "metadata": {},
   "outputs": [],
   "source": [
    "# Test\n",
    "#pts2 = create_points(npts=111, dist='G', dim=2)\n",
    "#print(pts2)"
   ]
  },
  {
   "cell_type": "markdown",
   "metadata": {},
   "source": [
    "## Estimate the entropy of Renyi"
   ]
  },
  {
   "cell_type": "markdown",
   "metadata": {},
   "source": [
    "$$\\widehat{H}_{N,k,q} = \\frac{1}{1-q}\\log \\left[\\frac{1}{N}\\sum_{i=1}^{N}%\n",
    "\\left(\\zeta_{N,i,k}\\right)^{1-q} \\right] $$ where\n",
    "$$\\zeta_{N,i,k} = (N-1)C_{k} {V_m} (\\rho_{k,N-1}^{(i)})^m,$$  \n",
    "$$C_k = \\left[\\frac{\\Gamma(k)}{\\Gamma(k+1-q)}\\right]^{\\frac{1}{1-q}},$$ \n",
    "$$V_m = \\pi^{\\frac{m}{2}}/\\Gamma(\\frac{m}{2} + 1)$$ and \n",
    "$$\\bar{\\rho} = \\left\\{\\prod_{i=1}^{N}\\rho_{1,N-1}^{(i)}\\right\\}^{\\frac{1}{N}}.$$\n",
    "$$ q = 1- \\frac{2}{dof-m}$$"
   ]
  },
  {
   "cell_type": "code",
   "execution_count": 349,
   "metadata": {},
   "outputs": [],
   "source": [
    "def compute_entropy_estimate(points, k=1, dof = 23):\n",
    "\n",
    "    # define harmonic numbers\n",
    "    # def harmonic_number(n):\n",
    "    # return sum([1/i for i in range(1,n+1)])\n",
    "\n",
    "    \n",
    "    # compute near neighbour distances\n",
    "    from sklearn.neighbors import KDTree\n",
    "    tree = KDTree(points)\n",
    "    dist, ind = tree.query(points, k=k+1)\n",
    "    nnd = dist[:,k]\n",
    "    gmean_nnd = sc.stats.mstats.gmean(nnd)\n",
    "    \n",
    "    # extract dimensions \n",
    "    npts = points.shape[0]\n",
    "    m = points.shape[1]\n",
    "    \n",
    "    # compute q\n",
    "    q =  1 - 2 / (dof - m)\n",
    "\n",
    "    # compute volume of unit ball \n",
    "    vub = (np.pi**(m/2))/(sc.special.gamma(m/2 + 1))\n",
    "    \n",
    "    # compute  the value of C_k \n",
    "    C_k = (sc.special.gamma(k) / sc.special.gamma(k + 1 - q)) ** (1 / (1-q))\n",
    "    \n",
    "    \n",
    "    # compute  the value of zeta\n",
    "    zeta = ((npts-1) *(C_k ) * (vub) * (gmean_nnd) ** m)**(1-q)\n",
    "    \n",
    "    # compute and return estimate\n",
    "    est = (1 / (1-q) )* np.log((np.sum(zeta ))/npts)\n",
    "\n",
    "    return(est)"
   ]
  },
  {
   "cell_type": "code",
   "execution_count": 350,
   "metadata": {},
   "outputs": [],
   "source": [
    "# num_points = points.shape[0]\n",
    "# m = points.shape[1]"
   ]
  },
  {
   "cell_type": "code",
   "execution_count": 351,
   "metadata": {},
   "outputs": [
    {
     "data": {
      "text/plain": [
       "1.6525208379000702"
      ]
     },
     "execution_count": 351,
     "metadata": {},
     "output_type": "execute_result"
    }
   ],
   "source": [
    "C_k = (sc.special.gamma(k) / sc.special.gamma(k + 1 - q)) ** (1 / (1-q))\n",
    "C_k"
   ]
  },
  {
   "cell_type": "code",
   "execution_count": 352,
   "metadata": {},
   "outputs": [
    {
     "data": {
      "text/plain": [
       "3.141592653589793"
      ]
     },
     "execution_count": 352,
     "metadata": {},
     "output_type": "execute_result"
    }
   ],
   "source": [
    "\n",
    "vub = (np.pi**(m/2))/(sc.special.gamma(m/2 + 1))\n",
    "vub"
   ]
  },
  {
   "cell_type": "code",
   "execution_count": 353,
   "metadata": {},
   "outputs": [
    {
     "data": {
      "text/plain": [
       "-94.36782626523501"
      ]
     },
     "execution_count": 353,
     "metadata": {},
     "output_type": "execute_result"
    }
   ],
   "source": [
    "points = create_points(npts=10000)\n",
    "demo = compute_entropy_estimate(points, k=1, dof=23)\n",
    "demo"
   ]
  },
  {
   "cell_type": "code",
   "execution_count": 335,
   "metadata": {},
   "outputs": [],
   "source": [
    "#q = 0.6\n",
    "#k = 1\n",
    "#C_k = (sc.special.gamma(k) / sc.special.gamma(k + 1 - q)) ** (1 / (1-q))\n",
    "#C_k    "
   ]
  },
  {
   "cell_type": "markdown",
   "metadata": {},
   "source": [
    "$$\n",
    "\\sqrt{\\det {\\frac{\\nu -2}{\\nu}}\\widehat{C}_N }\n",
    "$$\n",
    "\n",
    "$$\n",
    "  \\widehat{C}_N  = \\frac{1}{N-1} \\sum_{r=1}^{N}X_r X_r^{\\prime},\n",
    "$$"
   ]
  },
  {
   "cell_type": "code",
   "execution_count": 336,
   "metadata": {},
   "outputs": [
    {
     "data": {
      "text/plain": [
       "0.0012433135874700034"
      ]
     },
     "execution_count": 336,
     "metadata": {},
     "output_type": "execute_result"
    }
   ],
   "source": [
    "# compute C_N(hat)\n",
    "\n",
    "#X_r = np.arange(npts)\n",
    "#X_r =np.random.randn(npts)\n",
    "dof=23\n",
    "X_r =   create_points(npts =100, dist='G', dim=1)\n",
    "X_m = X_r.transpose()\n",
    "product = np.outer(X_r , X_m)\n",
    "\n",
    "for i in range(npts):\n",
    "    X_r =  create_points(npts=100, dist='G', dim=1)\n",
    "    X_m = X_r.transpose()\n",
    "    product = product + np.outer(X_r , X_m)\n",
    "Rowsum = product\n",
    "C_N = (Rowsum)/(npts - 1) \n",
    "C_N2 = ((dof-2)/dof)*C_N\n",
    "C_N3 = np.linalg.det(C_N2)\n",
    "const = np.sqrt(C_N3)\n",
    "const\n",
    "    "
   ]
  },
  {
   "cell_type": "markdown",
   "metadata": {},
   "source": [
    "### Test Statistic"
   ]
  },
  {
   "cell_type": "markdown",
   "metadata": {},
   "source": [
    "$$ \n",
    "\\widehat{T}_{N,k} =  \\exp \\left\\{\\widehat{H}_{N, k, \\textit{q}}\\right \\} \\big{/} \n",
    "\\sqrt{\\det {\\frac{\\nu -2}{\\nu}}\\widehat{C}_N } - c_0(\\nu, m)\n",
    "$$\n",
    "where $\\widehat{C}_N$ is defined as\n",
    "\n",
    "$$\n",
    "  \\widehat{C}_N  = \\frac{1}{N-1} \\sum_{r=1}^{N}X_r X_r^{\\prime},\n",
    "$$\n",
    "and \n",
    "$$\n",
    " c_0(\\nu, m) = \\frac{B^{\\frac{1}{1-\\textit{q}}} \\left(\\frac{\\textit{q}(m + \\nu)}{2} - \\frac{m}{2}, \n",
    "\\frac{m}{2}\\right)(\\pi \\nu)^{\\frac{m}{2}}}{B^{\\frac{\\textit{q}}{1-\\textit{q}}}(\\frac{\\nu}{2}, \n",
    "\\frac{m}{2})\\Gamma \\left(\\frac{m}{2} \\right)}.\n",
    "$$\n",
    "\n"
   ]
  },
  {
   "cell_type": "code",
   "execution_count": 337,
   "metadata": {},
   "outputs": [],
   "source": [
    "# def compute_q(dof, m=2):\n",
    "#    q = 1 - 2 / (dof - m)\n",
    "#    return q     "
   ]
  },
  {
   "cell_type": "code",
   "execution_count": 338,
   "metadata": {},
   "outputs": [],
   "source": [
    "# dof_v = [5,6,7,8,9,10,11,12,13]\n",
    "# for dof in dof_v:\n",
    "#    demo = compute_q(dof, m=2)\n",
    "#    print(demo)"
   ]
  },
  {
   "cell_type": "code",
   "execution_count": 339,
   "metadata": {},
   "outputs": [],
   "source": [
    "def compute_test_statistic(points, k=1):\n",
    "    \n",
    "    # extract parameters \n",
    "    npts, m = points.shape\n",
    "    \n",
    "    # estimate entropy\n",
    "    entropy_estimate = compute_entropy_estimate(points, k, dof = 23)\n",
    "    \n",
    "    \n",
    "                     \n",
    "    # compute C_N(hat) and const\n",
    "    X_r =   create_points(npts =100, dist='G', dim=1)\n",
    "    X_m = X_r.transpose()\n",
    "    product = np.outer(X_r , X_m)\n",
    "\n",
    "    for i in range(npts):\n",
    "        X_r =  create_points(npts=100, dist='G', dim=1)\n",
    "        X_m = X_r.transpose()\n",
    "        product = product + np.outer(X_r , X_m)\n",
    "    Rowsum = product\n",
    "    C_N = (Rowsum)/(npts - 1) \n",
    "    C_N2 = ((dof-2)/dof)*C_N\n",
    "    C_N3 = np.linalg.det(C_N2)\n",
    "    const = np.sqrt(C_N3)\n",
    "                 \n",
    "                     \n",
    "    \n",
    "    # compute quotient\n",
    "    quot = (np.e**entropy_estimate)/(const) \n",
    "                     \n",
    "                     \n",
    "    # compute q\n",
    "    q = 1 - 2 / (dof - m)\n",
    "    \n",
    "\n",
    "    # compute constant c_0(v,m)\n",
    "    num = (sc.special.beta(q*(m + dof)/2 - m/2, m/2))**(1/(1-q))*(np.pi * dof) ** (m/2)\n",
    "    deno = ((sc.special.beta(dof/2, m/2)) ** (q/(1-q)))*(sc.special.gamma(m/2))\n",
    "    c_0 =  num / deno\n",
    "                     \n",
    "    \n",
    "    # return test statistic\n",
    "    return quot - c_0\n",
    "\n",
    "\n"
   ]
  },
  {
   "cell_type": "code",
   "execution_count": 340,
   "metadata": {},
   "outputs": [
    {
     "data": {
      "text/plain": [
       "8.203599218271246e-39"
      ]
     },
     "execution_count": 340,
     "metadata": {},
     "output_type": "execute_result"
    }
   ],
   "source": [
    "entropy_estimate = compute_entropy_estimate(points, k)\n",
    "quot = (np.e**entropy_estimate)/(const) \n",
    "quot"
   ]
  },
  {
   "cell_type": "code",
   "execution_count": 341,
   "metadata": {},
   "outputs": [
    {
     "data": {
      "text/plain": [
       "-19.792553591665865"
      ]
     },
     "execution_count": 341,
     "metadata": {},
     "output_type": "execute_result"
    }
   ],
   "source": [
    "demo = compute_test_statistic(points, k=1)\n",
    "demo"
   ]
  },
  {
   "cell_type": "code",
   "execution_count": 342,
   "metadata": {},
   "outputs": [
    {
     "data": {
      "text/plain": [
       "19.792553591665865"
      ]
     },
     "execution_count": 342,
     "metadata": {},
     "output_type": "execute_result"
    }
   ],
   "source": [
    "c_0"
   ]
  },
  {
   "cell_type": "code",
   "execution_count": 343,
   "metadata": {},
   "outputs": [
    {
     "data": {
      "text/plain": [
       "19.792553591665865"
      ]
     },
     "execution_count": 343,
     "metadata": {},
     "output_type": "execute_result"
    }
   ],
   "source": [
    "dof = 23\n",
    "m= 2\n",
    "q = 1 - 2 / (dof - m)\n",
    "num = (sc.special.beta(q*(m + dof)/2 - m/2, m/2))**(1/(1-q))*(np.pi * dof) ** (m/2)\n",
    "deno = (sc.special.beta(dof/2, m/2)) ** (q/(1-q))*(sc.special.gamma(m/2))\n",
    "c_0 =  num / deno\n",
    "c_0"
   ]
  },
  {
   "cell_type": "code",
   "execution_count": 344,
   "metadata": {},
   "outputs": [
    {
     "name": "stdout",
     "output_type": "stream",
     "text": [
      "T:  -19.7926, 0.0000\n",
      "L: -19.7926, 0.0000\n"
     ]
    }
   ],
   "source": [
    "# compute test statistic T(m,N,k,q) for T(8)  and Laplace(2)\n",
    "# should be zero for GG(1.0)\n",
    "#\n",
    "npts = 1000\n",
    "nrep = 100\n",
    "#q = 0.6\n",
    "results = np.zeros((nrep,2))\n",
    "for rep in range(nrep):\n",
    "    ptsT  = create_points(npts, dist='T', dim=2, dof=23)\n",
    "    ptsL = create_points(npts, dist='L', dim=2)\n",
    "    \n",
    "    valT = compute_test_statistic(ptsT)    \n",
    "    valL = compute_test_statistic(ptsL)\n",
    "    results[rep,:] = [valT, valL]\n",
    "\n",
    "mT = np.mean(results[:,0])\n",
    "sT = np.std(results[:,0])\n",
    "print('T:  {:.4f}, {:.4f}'.format(mT, sT))\n",
    "mL = np.mean(results[:,1])\n",
    "sL = np.std(results[:,1])\n",
    "print('L: {:.4f}, {:.4f}'.format(mL, sL))"
   ]
  },
  {
   "cell_type": "code",
   "execution_count": null,
   "metadata": {},
   "outputs": [],
   "source": []
  }
 ],
 "metadata": {
  "kernelspec": {
   "display_name": "Python 3",
   "language": "python",
   "name": "python3"
  },
  "language_info": {
   "codemirror_mode": {
    "name": "ipython",
    "version": 3
   },
   "file_extension": ".py",
   "mimetype": "text/x-python",
   "name": "python",
   "nbconvert_exporter": "python",
   "pygments_lexer": "ipython3",
   "version": "3.6.4"
  }
 },
 "nbformat": 4,
 "nbformat_minor": 2
}
